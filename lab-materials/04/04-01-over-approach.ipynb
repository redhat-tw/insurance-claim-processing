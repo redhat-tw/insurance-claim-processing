{
 "cells": [
  {
   "cell_type": "markdown",
   "id": "508be7fd-7c1d-46b1-945d-d0da8ed19c82",
   "metadata": {},
   "source": [
    "# 用於檢測車禍的方法概述\n",
    "\n",
    "本次目標是開發一個應用程式，用於識別保險索賠中是否有包含靜態圖片，且圖片是否為車禍事故。如果發現為車禍事故，索賠將轉至正確的索賠部門處理。而這邊將學習如何使用 YOLO v8 模型。\n",
    "\n",
    "在本 Notebook 中，將使用預先訓練的 ML模型 yolov8m，並理解如何在靜態圖片上運行。假如果該模型可以用來偵測汽車，那可以重新訓練模型來偵測車禍。\n",
    "\n",
    "如果有依照前面流程啟用 Workbench Image 的話，預設都會包含所需 Libraries，因此可以直接 Import 使用。但如果未使用正確 Image 的話，則需要執行第一行 `pip install ...` 來安裝相依套件 ultralytics。"
   ]
  },
  {
   "cell_type": "code",
   "execution_count": null,
   "id": "952e0a5e-e038-46bc-b7a2-16ca7ec64af5",
   "metadata": {
    "tags": []
   },
   "outputs": [],
   "source": [
    "# If you did not use the Workbench image designed for this Lab, you can uncomment and run the following line to install the required packages.\n",
    "# !pip install --no-cache-dir --no-dependencies -r requirements.txt\n",
    "\n",
    "import cv2\n",
    "from ultralytics import YOLO\n",
    "from PIL import Image"
   ]
  },
  {
   "cell_type": "code",
   "execution_count": null,
   "id": "ff63f26e-1a19-4409-ad99-d0abb45d74aa",
   "metadata": {
    "tags": []
   },
   "outputs": [],
   "source": [
    "# We are going to use the YOLOv8m model for object detection\n",
    "model = YOLO('yolov8m.pt')"
   ]
  },
  {
   "cell_type": "code",
   "execution_count": null,
   "id": "568460ea-b6b2-48b6-87fb-2a7d2f8091e0",
   "metadata": {
    "tags": []
   },
   "outputs": [],
   "source": [
    "# Display the image we wish to test\n",
    "Image.open(\"images/carImage0.jpg\")"
   ]
  },
  {
   "cell_type": "code",
   "execution_count": null,
   "id": "c4c129c0-e309-45e3-b094-ee4ee999dd7d",
   "metadata": {
    "tags": []
   },
   "outputs": [],
   "source": [
    "# Test that the YOLO model can identify a car object in the given photo\n",
    "results = model.predict(\"images/carImage0.jpg\")"
   ]
  },
  {
   "cell_type": "markdown",
   "id": "86e1bd1b-123c-4fac-ab18-da40323cc97e",
   "metadata": {},
   "source": [
    "這邊可以看到 YOLO 模型偵測圖片中有一輛汽車，我們可以載入其他圖片來看 YOLO 偵測汽車物體狀況，並透過程式來框出汽車。"
   ]
  },
  {
   "cell_type": "code",
   "execution_count": null,
   "id": "c00d4d9a-7b03-479a-9995-f0a0cddbf1e1",
   "metadata": {
    "tags": []
   },
   "outputs": [],
   "source": [
    "# List all the images in our <images> folder. We can then pick one of those images for our tests.\n",
    "!ls -al images"
   ]
  },
  {
   "cell_type": "code",
   "execution_count": null,
   "id": "1c920270-62a0-41be-a8e3-0ccf57771fcc",
   "metadata": {
    "tags": []
   },
   "outputs": [],
   "source": [
    "# Choose a car image,  eg <carImage4.jpg>, and see if yolo can determine if the image contains an automobile.\n",
    "img = Image.open('images/carImage4.jpg')\n",
    "img_resized = img.resize((500, 300))\n",
    "display(img_resized)"
   ]
  },
  {
   "cell_type": "code",
   "execution_count": null,
   "id": "26771df8-1e76-4aee-893d-1200b9871fff",
   "metadata": {
    "tags": []
   },
   "outputs": [],
   "source": [
    "# Obtain the results for the model prediction\n",
    "results = model.predict(img)"
   ]
  },
  {
   "cell_type": "markdown",
   "id": "24a0c24c-9847-4ab0-a242-ca236fffda3e",
   "metadata": {},
   "source": [
    "從 `carImage4.jpg` 結果來看，可以確認 YOLO 可以偵測一張圖片中的多輛汽車與汽車類型。但圖片沒有任何提示來方便人員檢視哪些車輛被偵測，因此下一個 `04-02-car-recog.ipynb` Notebook 將完成這件事。"
   ]
  }
 ],
 "metadata": {
  "kernelspec": {
   "display_name": "Python 3.11",
   "language": "python",
   "name": "python3"
  },
  "language_info": {
   "codemirror_mode": {
    "name": "ipython",
    "version": 3
   },
   "file_extension": ".py",
   "mimetype": "text/x-python",
   "name": "python",
   "nbconvert_exporter": "python",
   "pygments_lexer": "ipython3",
   "version": "3.11.5"
  }
 },
 "nbformat": 4,
 "nbformat_minor": 5
}
