{
 "cells": [
  {
   "cell_type": "markdown",
   "id": "70bedcd9-6e54-4fe7-951f-807c6ab2f0e9",
   "metadata": {},
   "source": [
    "# 測試重新訓練的 YOLO 模型\n",
    "\n",
    "前面已經重新訓練了模型，因此可以拿車禍圖片來測試模型。"
   ]
  },
  {
   "cell_type": "code",
   "execution_count": null,
   "id": "cb59c2a5-7de8-48b2-8f32-a83b4b42a7ab",
   "metadata": {},
   "outputs": [],
   "source": [
    "# If you did not use the Workbench image designed for this Lab, you can uncomment and run the following line to install the required packages.\n",
    "# !pip install --no-cache-dir --no-dependencies -r requirements.txt\n",
    "\n",
    "from ultralytics import YOLO\n",
    "from PIL import Image"
   ]
  },
  {
   "cell_type": "markdown",
   "id": "5c5cc11d-54eb-4f95-a92a-4b9f6cf1fac6",
   "metadata": {},
   "source": [
    "\n",
    "在上一個 Notebook 中，學習了如何重新訓練模型。但由於訓練這是一項耗時的作業，需要 GPU 才能高效執行，因此無法在本 Lab 期間進行實際操作。\n",
    "\n",
    "因此，為了方便快速使用，這邊將已經重新訓練的模型以 ONNX 格式導出。"
   ]
  },
  {
   "cell_type": "code",
   "execution_count": null,
   "id": "1a927c99-c8d0-44d2-94ce-be033b8ca0de",
   "metadata": {},
   "outputs": [],
   "source": [
    "# Get the newly trained model.\n",
    "\n",
    "model = YOLO(\"https://rhods-public.s3.amazonaws.com/demo-models/ic-models/accident/accident_detect.onnx\", task=\"detect\")"
   ]
  },
  {
   "cell_type": "code",
   "execution_count": null,
   "id": "bdab1fa5-1d47-4060-b32a-e53f52a7a993",
   "metadata": {},
   "outputs": [],
   "source": [
    "# Test the model against a car accident image\n",
    "\n",
    "results = model.predict(\"images/carImage3.jpg\")  # We know that Image3 represents a severe accident with over 86% certainty."
   ]
  },
  {
   "cell_type": "code",
   "execution_count": null,
   "id": "88eb63c2-a479-4fdd-b194-c36935badd07",
   "metadata": {},
   "outputs": [],
   "source": [
    "# Extract all the information from the result (type, bounding box, probability)\n",
    "\n",
    "result = results[0]\n",
    "for box in result.boxes:\n",
    "  class_id = result.names[box.cls[0].item()]\n",
    "  cords = box.xyxy[0].tolist()\n",
    "  cords = [round(x) for x in cords]\n",
    "  conf = round(box.conf[0].item(), 2)\n",
    "  print(\"Object type:\", class_id)\n",
    "  print(\"Coordinates:\", cords)\n",
    "  print(\"Probability:\", conf)\n",
    "  print(\"---\")"
   ]
  },
  {
   "cell_type": "code",
   "execution_count": null,
   "id": "970ea08c-9419-47bb-9df1-2914d91e8c8f",
   "metadata": {},
   "outputs": [],
   "source": [
    "# On the image, draw the box, the name of the class, and the probability (how much the model is sure about the detection).\n",
    "\n",
    "Image.fromarray(result.plot()[:,:,::-1])"
   ]
  },
  {
   "cell_type": "markdown",
   "id": "1784c664-01ea-4787-acd7-631854caa9fd",
   "metadata": {},
   "source": [
    "在檢查 `carImage3.jpg` 時，重新訓練的 YOLO 模型，已經能正確偵測車禍車輛，並且給予一個信心度(confidence)數值 86%，然後在車輛周圍繪製方框，並標示為 severe 0.86。\n",
    "\n",
    "現在我們有了一個可以檢測事故嚴重程度的模型，這時要建立一個預測函式，並使用 `ModelMesh` 服務模型。\n",
    "\n",
    "P.S. 這邊先不開啟 `04-05-model-serving.ipyn` 檔案，直接回到 Hackmd 查看 Lab 說明。\n",
    "\n"
   ]
  }
 ],
 "metadata": {
  "kernelspec": {
   "display_name": "Python 3.11",
   "language": "python",
   "name": "python3"
  },
  "language_info": {
   "codemirror_mode": {
    "name": "ipython",
    "version": 3
   },
   "file_extension": ".py",
   "mimetype": "text/x-python",
   "name": "python",
   "nbconvert_exporter": "python",
   "pygments_lexer": "ipython3",
   "version": "3.11.5"
  }
 },
 "nbformat": 4,
 "nbformat_minor": 5
}
